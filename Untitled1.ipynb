{
  "nbformat": 4,
  "nbformat_minor": 0,
  "metadata": {
    "colab": {
      "provenance": []
    },
    "kernelspec": {
      "name": "python3",
      "display_name": "Python 3"
    },
    "language_info": {
      "name": "python"
    }
  },
  "cells": [
    {
      "cell_type": "code",
      "execution_count": 1,
      "metadata": {
        "colab": {
          "base_uri": "https://localhost:8080/"
        },
        "id": "3DiqGOWDrb3U",
        "outputId": "4cb40b94-4eb3-445a-a8d2-f3a0f0f8ef0f"
      },
      "outputs": [
        {
          "output_type": "stream",
          "name": "stdout",
          "text": [
            "Requirement already satisfied: requests in /usr/local/lib/python3.10/dist-packages (2.31.0)\n",
            "Requirement already satisfied: charset-normalizer<4,>=2 in /usr/local/lib/python3.10/dist-packages (from requests) (3.3.2)\n",
            "Requirement already satisfied: idna<4,>=2.5 in /usr/local/lib/python3.10/dist-packages (from requests) (3.7)\n",
            "Requirement already satisfied: urllib3<3,>=1.21.1 in /usr/local/lib/python3.10/dist-packages (from requests) (2.0.7)\n",
            "Requirement already satisfied: certifi>=2017.4.17 in /usr/local/lib/python3.10/dist-packages (from requests) (2024.2.2)\n"
          ]
        }
      ],
      "source": [
        "# ライブラリをインストール\n",
        "!pip install requests"
      ]
    },
    {
      "cell_type": "code",
      "source": [
        "import requests\n",
        "import pprint\n",
        "from getpass import getpass"
      ],
      "metadata": {
        "id": "zvD9u2eJs1-1"
      },
      "execution_count": 2,
      "outputs": []
    },
    {
      "cell_type": "code",
      "source": [
        "# Google Maps APIのAPIキーを指定\n",
        "api_key = getpass('APIキーを入力してください：')"
      ],
      "metadata": {
        "colab": {
          "base_uri": "https://localhost:8080/"
        },
        "id": "POUrTzQJs_jz",
        "outputId": "77aabe12-00ad-4c09-bb7e-6dbae92d69d9"
      },
      "execution_count": 3,
      "outputs": [
        {
          "name": "stdout",
          "output_type": "stream",
          "text": [
            "APIキーを入力してください：··········\n"
          ]
        }
      ]
    },
    {
      "cell_type": "code",
      "source": [
        "# input関数を使って検索キーワードを変数に格納\n",
        "search_word = input('検索する駅を入力してください：')"
      ],
      "metadata": {
        "colab": {
          "base_uri": "https://localhost:8080/"
        },
        "id": "zuc0Fzq2ttQx",
        "outputId": "2ef7a47f-f82d-4c73-8c9b-4217ce9f895b"
      },
      "execution_count": 4,
      "outputs": [
        {
          "name": "stdout",
          "output_type": "stream",
          "text": [
            "検索する駅を入力してください：新大阪\n"
          ]
        }
      ]
    },
    {
      "cell_type": "code",
      "source": [
        "# 入力された駅の緯度経度を取得する APIエンドポイントURL(APIアクセス接続先)として下記を使用\n",
        "position_url = 'https://maps.googleapis.com/maps/api/geocode/json'\n",
        "\n",
        "# paramsには[key(APIキー)] [address(駅名)]\n",
        "position_response = requests.get(\n",
        "    position_url,\n",
        "    params={\n",
        "        'key': api_key,\n",
        "        'address': search_word\n",
        "    }\n",
        ")"
      ],
      "metadata": {
        "id": "6DyW68T1ttYf"
      },
      "execution_count": 15,
      "outputs": []
    },
    {
      "cell_type": "code",
      "source": [
        "# レスポンスからJSONを取り出して確認\n",
        "position_json_data = position_response.json()\n",
        "pprint.pprint(position_json_data)"
      ],
      "metadata": {
        "colab": {
          "base_uri": "https://localhost:8080/"
        },
        "id": "xa6xZfDSvwrC",
        "outputId": "eacb97f1-e4b1-4458-da44-1032b2b21ac8"
      },
      "execution_count": 26,
      "outputs": [
        {
          "output_type": "stream",
          "name": "stdout",
          "text": [
            "{'results': [{'address_components': [{'long_name': 'Shin-Osaka Station',\n",
            "                                      'short_name': 'Shin-Ōsaka Station',\n",
            "                                      'types': ['establishment',\n",
            "                                                'point_of_interest',\n",
            "                                                'subway_station',\n",
            "                                                'train_station',\n",
            "                                                'transit_station']},\n",
            "                                     {'long_name': '16',\n",
            "                                      'short_name': '16',\n",
            "                                      'types': ['political',\n",
            "                                                'sublocality',\n",
            "                                                'sublocality_level_4']},\n",
            "                                     {'long_name': '5-chōme',\n",
            "                                      'short_name': '5-chōme',\n",
            "                                      'types': ['political',\n",
            "                                                'sublocality',\n",
            "                                                'sublocality_level_3']},\n",
            "                                     {'long_name': 'Nishinakajima',\n",
            "                                      'short_name': 'Nishinakajima',\n",
            "                                      'types': ['political',\n",
            "                                                'sublocality',\n",
            "                                                'sublocality_level_2']},\n",
            "                                     {'long_name': 'Yodogawa Ward',\n",
            "                                      'short_name': 'Yodogawa Ward',\n",
            "                                      'types': ['political',\n",
            "                                                'sublocality',\n",
            "                                                'sublocality_level_1']},\n",
            "                                     {'long_name': 'Osaka',\n",
            "                                      'short_name': 'Osaka',\n",
            "                                      'types': ['locality', 'political']},\n",
            "                                     {'long_name': 'Osaka',\n",
            "                                      'short_name': 'Osaka',\n",
            "                                      'types': ['administrative_area_level_1',\n",
            "                                                'political']},\n",
            "                                     {'long_name': 'Japan',\n",
            "                                      'short_name': 'JP',\n",
            "                                      'types': ['country', 'political']},\n",
            "                                     {'long_name': '532-0011',\n",
            "                                      'short_name': '532-0011',\n",
            "                                      'types': ['postal_code']}],\n",
            "              'formatted_address': 'Shin-Ōsaka Station, 5-chōme-16 '\n",
            "                                   'Nishinakajima, Yodogawa Ward, Osaka, '\n",
            "                                   '532-0011, Japan',\n",
            "              'geometry': {'location': {'lat': 34.7334658, 'lng': 135.5002547},\n",
            "                           'location_type': 'ROOFTOP',\n",
            "                           'viewport': {'northeast': {'lat': 34.73475579999999,\n",
            "                                                      'lng': 135.5028872},\n",
            "                                        'southwest': {'lat': 34.7315833,\n",
            "                                                      'lng': 135.4981046}}},\n",
            "              'partial_match': True,\n",
            "              'place_id': 'ChIJSc4SbDnkAGARz3YQv-DE1zs',\n",
            "              'plus_code': {'compound_code': 'PGM2+94 Osaka, Japan',\n",
            "                            'global_code': '8Q6QPGM2+94'},\n",
            "              'types': ['establishment',\n",
            "                        'point_of_interest',\n",
            "                        'subway_station',\n",
            "                        'train_station',\n",
            "                        'transit_station']}],\n",
            " 'status': 'OK'}\n"
          ]
        }
      ]
    },
    {
      "cell_type": "code",
      "source": [
        "for item in position_json_data['results']:\n",
        "  lat = item['geometry']['location']['lat']\n",
        "  lng = item['geometry']['location']['lng']\n",
        "  print(f'{lat}: {lng}')"
      ],
      "metadata": {
        "colab": {
          "base_uri": "https://localhost:8080/"
        },
        "id": "hxZo9MoM3CqF",
        "outputId": "a4d1f8d5-4103-4402-d5f5-c8a9c84e3e0e"
      },
      "execution_count": 30,
      "outputs": [
        {
          "output_type": "stream",
          "name": "stdout",
          "text": [
            "34.7334658: 135.5002547\n"
          ]
        }
      ]
    },
    {
      "cell_type": "code",
      "source": [
        "# レストラン情報を取得するためのAPIエンドポイントURLとして下記を使用\n",
        "restaurant_url = 'https://maps.googleapis.com/maps/api/place/nearbysearch/json'\n",
        "\n",
        "# paramsには[latitude(緯度)] [longitude(経度)] [language(言語)] [radius(半径)] [type(ビジネス種別)] [key(APIキー)]\n",
        "restaurant_response = requests.get(\n",
        "    restaurant_url,\n",
        "    params={\n",
        "        'latitude': lat,\n",
        "        'longitude': lng,\n",
        "        'language': 'ja',\n",
        "        'radius': 500,\n",
        "        'type': 'restaurant',\n",
        "        'key': api_key,\n",
        "        'maxResults': 10\n",
        "    }\n",
        ")"
      ],
      "metadata": {
        "id": "sefZAr7Fv5-x"
      },
      "execution_count": 45,
      "outputs": []
    },
    {
      "cell_type": "code",
      "source": [
        "# レスポンスからJSONを取り出して確認\n",
        "restaurant_json_data = restaurant_response.json()\n",
        "\n",
        "# JSONの中身を確認\n",
        "pprint.pprint(restaurant_json_data)"
      ],
      "metadata": {
        "colab": {
          "base_uri": "https://localhost:8080/"
        },
        "id": "zXF1NoSD_nry",
        "outputId": "fe5414ea-c812-4c21-bb0a-eb51074ff519"
      },
      "execution_count": 47,
      "outputs": [
        {
          "output_type": "stream",
          "name": "stdout",
          "text": [
            "{'html_attributions': [], 'results': [], 'status': 'INVALID_REQUEST'}\n"
          ]
        }
      ]
    },
    {
      "cell_type": "code",
      "source": [],
      "metadata": {
        "id": "0Swh_OpF_nzJ"
      },
      "execution_count": null,
      "outputs": []
    }
  ]
}